{
  "nbformat": 4,
  "nbformat_minor": 0,
  "metadata": {
    "colab": {
      "provenance": [],
      "authorship_tag": "ABX9TyPoBvg6jhygZgVl1Wt2mhza",
      "include_colab_link": true
    },
    "kernelspec": {
      "name": "python3",
      "display_name": "Python 3"
    },
    "language_info": {
      "name": "python"
    }
  },
  "cells": [
    {
      "cell_type": "markdown",
      "metadata": {
        "id": "view-in-github",
        "colab_type": "text"
      },
      "source": [
        "<a href=\"https://colab.research.google.com/github/Vinayak-Sharma12/Working_with_Numpy_with_me/blob/main/Working_with_Numpy_with_me.ipynb\" target=\"_parent\"><img src=\"https://colab.research.google.com/assets/colab-badge.svg\" alt=\"Open In Colab\"/></a>"
      ]
    },
    {
      "cell_type": "markdown",
      "source": [
        "# **NUMPY**\n",
        "*Numpy library is specially designed for the Array*"
      ],
      "metadata": {
        "id": "FyERX0goIR7j"
      }
    },
    {
      "cell_type": "markdown",
      "source": [
        "Difference in Array and List is that array stores same data type whereas list you know can store any data type"
      ],
      "metadata": {
        "id": "zgogvxu3JN_d"
      }
    },
    {
      "cell_type": "code",
      "source": [
        "import numpy as np"
      ],
      "metadata": {
        "id": "mlBbYaTjJ9ya"
      },
      "execution_count": 1,
      "outputs": []
    },
    {
      "cell_type": "markdown",
      "source": [
        "-->Converting List into Array"
      ],
      "metadata": {
        "id": "JS5feTwkKcHU"
      }
    },
    {
      "cell_type": "code",
      "source": [
        " my_list=[1,2,3,4,5]\n",
        " arr=np.array(my_list)\n",
        " print(arr)\n",
        " type(arr)\n",
        " #print(my_list)"
      ],
      "metadata": {
        "colab": {
          "base_uri": "https://localhost:8080/"
        },
        "id": "MmD3gR6oKg8A",
        "outputId": "d54b3040-5250-4955-cdf2-5d859ff68675"
      },
      "execution_count": 2,
      "outputs": [
        {
          "output_type": "stream",
          "name": "stdout",
          "text": [
            "[1 2 3 4 5]\n"
          ]
        },
        {
          "output_type": "execute_result",
          "data": {
            "text/plain": [
              "numpy.ndarray"
            ]
          },
          "metadata": {},
          "execution_count": 2
        }
      ]
    },
    {
      "cell_type": "code",
      "source": [
        "## Multinested array\n",
        "my_lst1=[1,2,3]\n",
        "my_lst2=[2,3,4]\n",
        "my_lst3=[9,7,6]\n",
        "\n",
        "arr=np.array([my_lst1,my_lst2,my_lst3])\n",
        "print(arr)\n",
        "type(arr)"
      ],
      "metadata": {
        "colab": {
          "base_uri": "https://localhost:8080/"
        },
        "id": "TgCPxHY9J-Dn",
        "outputId": "3b66a55a-da9f-4d86-a60c-73ed46d294ae"
      },
      "execution_count": 17,
      "outputs": [
        {
          "output_type": "stream",
          "name": "stdout",
          "text": [
            "[[1 2 3]\n",
            " [2 3 4]\n",
            " [9 7 6]]\n"
          ]
        },
        {
          "output_type": "execute_result",
          "data": {
            "text/plain": [
              "numpy.ndarray"
            ]
          },
          "metadata": {},
          "execution_count": 17
        }
      ]
    },
    {
      "cell_type": "code",
      "source": [
        "#Check the shape of the array\n",
        "# Shape - Rows and Column\n",
        "arr.shape"
      ],
      "metadata": {
        "colab": {
          "base_uri": "https://localhost:8080/"
        },
        "id": "vgyjHugvON8r",
        "outputId": "3069ab23-3da4-413d-c177-d4a613b32720"
      },
      "execution_count": 18,
      "outputs": [
        {
          "output_type": "execute_result",
          "data": {
            "text/plain": [
              "(3, 3)"
            ]
          },
          "metadata": {},
          "execution_count": 18
        }
      ]
    },
    {
      "cell_type": "markdown",
      "source": [
        "# Indexing"
      ],
      "metadata": {
        "id": "tWi4piYBPaCz"
      }
    },
    {
      "cell_type": "code",
      "source": [
        "L=[1,2,3,4,5,6]\n",
        "arrie=np.array(L)\n",
        "arrie\n"
      ],
      "metadata": {
        "colab": {
          "base_uri": "https://localhost:8080/"
        },
        "id": "bsIBOIA7QwDn",
        "outputId": "543069d1-4b25-45d0-a9ad-c467391c3e48"
      },
      "execution_count": 21,
      "outputs": [
        {
          "output_type": "execute_result",
          "data": {
            "text/plain": [
              "array([1, 2, 3, 4, 5, 6])"
            ]
          },
          "metadata": {},
          "execution_count": 21
        }
      ]
    },
    {
      "cell_type": "code",
      "source": [
        "arrie[3]"
      ],
      "metadata": {
        "colab": {
          "base_uri": "https://localhost:8080/"
        },
        "id": "QNNmfDk0Q2Za",
        "outputId": "4028c329-c71b-4abc-85ee-534da1dc206b"
      },
      "execution_count": 23,
      "outputs": [
        {
          "output_type": "execute_result",
          "data": {
            "text/plain": [
              "4"
            ]
          },
          "metadata": {},
          "execution_count": 23
        }
      ]
    },
    {
      "cell_type": "code",
      "source": [
        "#Updating element in the array\n",
        "arrie[3:]=100\n",
        "arrie"
      ],
      "metadata": {
        "colab": {
          "base_uri": "https://localhost:8080/"
        },
        "id": "irkPuOTkUo6V",
        "outputId": "3bf75827-aec2-4c25-a0f4-866a1af4a2c6"
      },
      "execution_count": 41,
      "outputs": [
        {
          "output_type": "execute_result",
          "data": {
            "text/plain": [
              "array([  1,   2,   3, 100, 100, 100])"
            ]
          },
          "metadata": {},
          "execution_count": 41
        }
      ]
    },
    {
      "cell_type": "code",
      "source": [
        "#Accessing elemnent of multinested\n",
        "arr[0:1,2:3]"
      ],
      "metadata": {
        "colab": {
          "base_uri": "https://localhost:8080/"
        },
        "id": "glg0_35dRse8",
        "outputId": "726b579a-8ef8-4643-9071-01b5c9776525"
      },
      "execution_count": 38,
      "outputs": [
        {
          "output_type": "execute_result",
          "data": {
            "text/plain": [
              "array([[3]])"
            ]
          },
          "metadata": {},
          "execution_count": 38
        }
      ]
    },
    {
      "cell_type": "code",
      "source": [
        "arr"
      ],
      "metadata": {
        "colab": {
          "base_uri": "https://localhost:8080/"
        },
        "outputId": "3cc476f2-7095-4655-93a5-81d79d78b8f4",
        "id": "BwtkyojvUxbz"
      },
      "execution_count": null,
      "outputs": [
        {
          "output_type": "execute_result",
          "data": {
            "text/plain": [
              "array([[1, 2, 3],\n",
              "       [2, 3, 4],\n",
              "       [9, 7, 6]])"
            ]
          },
          "metadata": {},
          "execution_count": 27
        }
      ]
    },
    {
      "cell_type": "code",
      "source": [
        "arr[0:2,1:3]"
      ],
      "metadata": {
        "colab": {
          "base_uri": "https://localhost:8080/"
        },
        "id": "GV_PsIV2TOP0",
        "outputId": "f947016f-1a16-46a6-aeeb-da6557222886"
      },
      "execution_count": 39,
      "outputs": [
        {
          "output_type": "execute_result",
          "data": {
            "text/plain": [
              "array([[2, 3],\n",
              "       [3, 4]])"
            ]
          },
          "metadata": {},
          "execution_count": 39
        }
      ]
    },
    {
      "cell_type": "markdown",
      "source": [
        "## Some Conditions very Useful in Data Analysis"
      ],
      "metadata": {
        "id": "1cZIfN3tVQAZ"
      }
    },
    {
      "cell_type": "code",
      "source": [
        "# Using A Filter for us\n",
        "# 1-D Array\n",
        "value=3\n",
        "result=arrie[arrie<value]\n",
        "result"
      ],
      "metadata": {
        "colab": {
          "base_uri": "https://localhost:8080/"
        },
        "id": "l2UeNz6TVp7V",
        "outputId": "5de2843e-152d-41f6-c990-33098e59f7a6"
      },
      "execution_count": 44,
      "outputs": [
        {
          "output_type": "execute_result",
          "data": {
            "text/plain": [
              "array([1, 2])"
            ]
          },
          "metadata": {},
          "execution_count": 44
        }
      ]
    },
    {
      "cell_type": "code",
      "source": [
        "#2-D Array\n",
        "value=4\n",
        "answer=arr[arr<value]\n",
        "answer"
      ],
      "metadata": {
        "colab": {
          "base_uri": "https://localhost:8080/"
        },
        "id": "yMijdVibWuG0",
        "outputId": "9a58fc42-aca4-4fd8-cec0-2b3acc9bd470"
      },
      "execution_count": 45,
      "outputs": [
        {
          "output_type": "execute_result",
          "data": {
            "text/plain": [
              "array([1, 2, 3, 2, 3])"
            ]
          },
          "metadata": {},
          "execution_count": 45
        }
      ]
    },
    {
      "cell_type": "code",
      "source": [
        "# Creating and Reshaping an array\n",
        "arr1= np.arange(0,10).reshape(2,5)\n",
        "arr2=np.arange(0,10).reshape(5,2)\n",
        "print(arr1)\n",
        "print(\" \")\n",
        "print(arr2)"
      ],
      "metadata": {
        "colab": {
          "base_uri": "https://localhost:8080/"
        },
        "id": "MUMqcVVwXQBo",
        "outputId": "1d5e6f1d-7294-4a66-fa8b-a231b257851c"
      },
      "execution_count": 53,
      "outputs": [
        {
          "output_type": "stream",
          "name": "stdout",
          "text": [
            "[[0 1 2 3 4]\n",
            " [5 6 7 8 9]]\n",
            " \n",
            "[[0 1]\n",
            " [2 3]\n",
            " [4 5]\n",
            " [6 7]\n",
            " [8 9]]\n"
          ]
        }
      ]
    },
    {
      "cell_type": "code",
      "source": [
        "# Multiplication of array can only be done with array of same shape\n",
        "arr1*arr1"
      ],
      "metadata": {
        "colab": {
          "base_uri": "https://localhost:8080/"
        },
        "id": "N-gIMfizalRx",
        "outputId": "10b38363-d599-4f79-d27b-feaf946c5d8f"
      },
      "execution_count": 56,
      "outputs": [
        {
          "output_type": "execute_result",
          "data": {
            "text/plain": [
              "array([[ 0,  1,  4,  9, 16],\n",
              "       [25, 36, 49, 64, 81]])"
            ]
          },
          "metadata": {},
          "execution_count": 56
        }
      ]
    },
    {
      "cell_type": "code",
      "source": [
        "# Creating an array with 1\n",
        "arr3=np.ones((2,4),dtype=int)\n",
        "arr3"
      ],
      "metadata": {
        "colab": {
          "base_uri": "https://localhost:8080/"
        },
        "id": "7L00QxUGbpkA",
        "outputId": "7ce03b0c-d8c1-403c-dbcc-90c010f96867"
      },
      "execution_count": 59,
      "outputs": [
        {
          "output_type": "execute_result",
          "data": {
            "text/plain": [
              "array([[1, 1, 1, 1],\n",
              "       [1, 1, 1, 1]])"
            ]
          },
          "metadata": {},
          "execution_count": 59
        }
      ]
    },
    {
      "cell_type": "code",
      "source": [
        "#Creating an array with random number\n",
        "np.random.rand(3,3)"
      ],
      "metadata": {
        "colab": {
          "base_uri": "https://localhost:8080/"
        },
        "id": "yXX7SNHIcGRL",
        "outputId": "f8a409f0-b9d2-4d07-e1fc-a991086ba97b"
      },
      "execution_count": 60,
      "outputs": [
        {
          "output_type": "execute_result",
          "data": {
            "text/plain": [
              "array([[0.50905381, 0.72023678, 0.41185804],\n",
              "       [0.74708835, 0.34496569, 0.79129902],\n",
              "       [0.06486513, 0.47278877, 0.26192317]])"
            ]
          },
          "metadata": {},
          "execution_count": 60
        }
      ]
    },
    {
      "cell_type": "code",
      "source": [
        "#Creating an array with Standard Normal  Distribution\n",
        "np.random.randn(4,4)"
      ],
      "metadata": {
        "colab": {
          "base_uri": "https://localhost:8080/"
        },
        "id": "ITwrATmvcUNY",
        "outputId": "797d39d8-cb4e-40ce-a381-5c5150b9b8a5"
      },
      "execution_count": 62,
      "outputs": [
        {
          "output_type": "execute_result",
          "data": {
            "text/plain": [
              "array([[-0.57818635, -0.70333159, -1.17140771, -0.28403588],\n",
              "       [-0.11391703,  1.32342445, -1.40588352,  0.44437344],\n",
              "       [ 0.35874307, -0.39663827,  0.06606212,  2.05503069],\n",
              "       [ 0.28625195,  0.11310301, -0.01846355,  0.07741415]])"
            ]
          },
          "metadata": {},
          "execution_count": 62
        }
      ]
    }
  ]
}